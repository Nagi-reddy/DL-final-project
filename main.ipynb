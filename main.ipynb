{
 "cells": [
  {
   "cell_type": "code",
   "execution_count": 1,
   "metadata": {},
   "outputs": [
    {
     "name": "stdout",
     "output_type": "stream",
     "text": [
      "Requirement already satisfied: sendgrid in c:\\users\\revoo\\appdata\\local\\programs\\python\\python312\\lib\\site-packages (6.11.0)\n",
      "Requirement already satisfied: python-http-client>=3.2.1 in c:\\users\\revoo\\appdata\\local\\programs\\python\\python312\\lib\\site-packages (from sendgrid) (3.3.7)\n",
      "Requirement already satisfied: starkbank-ecdsa>=2.0.1 in c:\\users\\revoo\\appdata\\local\\programs\\python\\python312\\lib\\site-packages (from sendgrid) (2.2.0)\n",
      "Note: you may need to restart the kernel to use updated packages.\n"
     ]
    },
    {
     "name": "stderr",
     "output_type": "stream",
     "text": [
      "\n",
      "[notice] A new release of pip is available: 24.2 -> 24.3.1\n",
      "[notice] To update, run: python.exe -m pip install --upgrade pip\n"
     ]
    }
   ],
   "source": [
    "pip install sendgrid"
   ]
  },
  {
   "cell_type": "code",
   "execution_count": 4,
   "metadata": {},
   "outputs": [
    {
     "name": "stdout",
     "output_type": "stream",
     "text": [
      "Collecting opencv-python\n",
      "  Using cached opencv_python-4.10.0.84-cp37-abi3-win_amd64.whl.metadata (20 kB)\n",
      "Requirement already satisfied: numpy>=1.21.2 in c:\\users\\revoo\\appdata\\local\\programs\\python\\python312\\lib\\site-packages (from opencv-python) (2.0.2)\n",
      "Using cached opencv_python-4.10.0.84-cp37-abi3-win_amd64.whl (38.8 MB)\n",
      "Installing collected packages: opencv-python\n",
      "Successfully installed opencv-python-4.10.0.84\n",
      "Note: you may need to restart the kernel to use updated packages.\n"
     ]
    }
   ],
   "source": [
    "pip install opencv-python"
   ]
  },
  {
   "cell_type": "code",
   "execution_count": null,
   "metadata": {},
   "outputs": [
    {
     "name": "stdout",
     "output_type": "stream",
     "text": [
      "Email sent successfully, status code: 202\n",
      "Email sent successfully, status code: 202\n",
      "Email sent successfully, status code: 202\n",
      "Email sent successfully, status code: 202\n",
      "Email sent successfully, status code: 202\n"
     ]
    }
   ],
   "source": [
    "import cv2\n",
    "import time\n",
    "from sendgrid import SendGridAPIClient\n",
    "from sendgrid.helpers.mail import Mail\n",
    "\n",
    "# Adding testing video path\n",
    "cam = cv2.VideoCapture('Testing.mp4')\n",
    "\n",
    "# Initializing Background Subtractor\n",
    "bg = cv2.createBackgroundSubtractorMOG2()\n",
    "j = 0\n",
    "\n",
    "# SendGrid Email credentials\n",
    "SENDGRID_API_KEY = '#'  \n",
    "FROM_EMAIL = '#'      \n",
    "TO_EMAIL = '#'   \n",
    "\n",
    "def send_email_notification():\n",
    "    message = Mail(\n",
    "        from_email=FROM_EMAIL,\n",
    "        to_emails=TO_EMAIL,\n",
    "        subject='Fall Detected',\n",
    "        plain_text_content='Kid has fallen. Please check immediately.'\n",
    "    )\n",
    "\n",
    "    try:\n",
    "        sg = SendGridAPIClient(SENDGRID_API_KEY)\n",
    "        response = sg.send(message)\n",
    "        print(f\"Email sent successfully, status code: {response.status_code}\")\n",
    "    except Exception as e:\n",
    "        print(f\"Error sending email: {e}\")\n",
    "\n",
    "# Main function\n",
    "while(1):\n",
    "    # Reading the frames from the Video Streaming\n",
    "    ret, frame = cam.read()\n",
    "    if not ret:\n",
    "        break  # Exit if video ends\n",
    "    \n",
    "    # Gray scaling of detected frames\n",
    "    gray = cv2.cvtColor(frame, cv2.COLOR_BGR2GRAY)\n",
    "    fg = bg.apply(gray)\n",
    "    \n",
    "    # Initializing Contours\n",
    "    contours, _ = cv2.findContours(fg, cv2.RETR_EXTERNAL, cv2.CHAIN_APPROX_SIMPLE)[-2:]\n",
    "    \n",
    "    if contours:\n",
    "        areas = []\n",
    "        for contour in contours:\n",
    "            ar = cv2.contourArea(contour)  # Defining Contour Area\n",
    "            areas.append(ar)  # Appending the Area\n",
    "        \n",
    "        max_area = max(areas or [0])\n",
    "        max_area_index = areas.index(max_area)\n",
    "        cnt = contours[max_area_index]\n",
    "        M = cv2.moments(cnt)\n",
    "        \n",
    "        # Drawing the bounding box to the frames\n",
    "        x, y, w, h = cv2.boundingRect(cnt)\n",
    "        cv2.drawContours(fg, [cnt], 0, (255,255,255), 3, maxLevel=0)\n",
    "        \n",
    "        if h < w:\n",
    "            j += 1\n",
    "        \n",
    "        # Conditions for fall detection (contour area)\n",
    "        if j > 20:\n",
    "            cv2.putText(frame, 'FALL', (x+5, y-5), cv2.FONT_HERSHEY_TRIPLEX, 2, (79,244,255), 2)\n",
    "            cv2.rectangle(frame, (x, y), (x+w, y+h), (0,0,255), 2)\n",
    "            \n",
    "            # Send Email notification\n",
    "            send_email_notification()\n",
    "\n",
    "            # Optionally, delay to prevent multiple notifications\n",
    "            time.sleep(5)  # Wait for 5 seconds before allowing another detection\n",
    "            \n",
    "        if h > w:\n",
    "            j = 0 \n",
    "            cv2.rectangle(frame, (x, y), (x + w, y + h), (0, 255, 0), 2)\n",
    "\n",
    "        cv2.imshow('video', frame)\n",
    "        \n",
    "        # Exit loop when 'ESC' key is pressed\n",
    "        if cv2.waitKey(33) == 27:\n",
    "            break\n",
    "\n",
    "cv2.destroyAllWindows()\n"
   ]
  }
 ],
 "metadata": {
  "kernelspec": {
   "display_name": "Python 3",
   "language": "python",
   "name": "python3"
  },
  "language_info": {
   "codemirror_mode": {
    "name": "ipython",
    "version": 3
   },
   "file_extension": ".py",
   "mimetype": "text/x-python",
   "name": "python",
   "nbconvert_exporter": "python",
   "pygments_lexer": "ipython3",
   "version": "3.12.0"
  }
 },
 "nbformat": 4,
 "nbformat_minor": 2
}
